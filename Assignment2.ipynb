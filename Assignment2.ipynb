{
 "cells": [
  {
   "cell_type": "code",
   "execution_count": 3,
   "metadata": {},
   "outputs": [
    {
     "name": "stdout",
     "output_type": "stream",
     "text": [
      "1\n",
      "2\n",
      "3\n",
      "4\n",
      "5\n",
      "6\n",
      "7\n",
      "8\n",
      "9\n",
      "10\n",
      "[2, 4, 6, 8, 10]\n"
     ]
    }
   ],
   "source": [
    "#Question 1\n",
    "listno=list()\n",
    "for i in range(1,11):\n",
    "    num=int(input())\n",
    "    if(num%2==0):\n",
    "        listno.append(num)\n",
    "print(listno)"
   ]
  },
  {
   "cell_type": "code",
   "execution_count": 22,
   "metadata": {},
   "outputs": [
    {
     "name": "stdout",
     "output_type": "stream",
     "text": [
      "[5, 10, 15, 20, 25, 30, 35, 40, 45, 50]\n",
      "[10, -20, -30, -40, 50, -60, 70, 80, 90, 0]\n",
      "[10, 50, 70, 80, 90]\n"
     ]
    }
   ],
   "source": [
    "#Question 2\n",
    "#Multiples of no using List Comprehension \n",
    "def multiple(no):\n",
    "    lst=[x*no for x in range(1,11)]\n",
    "    print(lst)\n",
    "multiple(5)\n",
    "\n",
    "#Printing positive nos using List Comprehension\n",
    "lst1=[10,-20,-30,-40,50,-60,70,80,90,0]\n",
    "print(lst1)\n",
    "lst2=[i for i in lst1 if i>0]\n",
    "print(lst2)"
   ]
  },
  {
   "cell_type": "code",
   "execution_count": 10,
   "metadata": {},
   "outputs": [
    {
     "name": "stdout",
     "output_type": "stream",
     "text": [
      "8\n",
      "{1: 1, 2: 4, 3: 9, 4: 16, 5: 25, 6: 36, 7: 49, 8: 64}\n"
     ]
    }
   ],
   "source": [
    "#Question 3\n",
    "d=dict()\n",
    "n=int(input())\n",
    "for i in range(1,n+1):\n",
    "    d[i]=i*i\n",
    "print(d)\n"
   ]
  },
  {
   "cell_type": "code",
   "execution_count": 2,
   "metadata": {},
   "outputs": [
    {
     "name": "stdout",
     "output_type": "stream",
     "text": [
      "4\n",
      "UP 5\n",
      "DOWN 3\n",
      "LEFT 3\n",
      "RIGHT 2\n",
      "2\n"
     ]
    }
   ],
   "source": [
    "#Question 4\n",
    "pos = {\"x\":0,\"y\":0}\n",
    "\n",
    "n = int(input())\n",
    "\n",
    "for i in range (n):\n",
    "    move =  input().split(\" \")      \n",
    "    \n",
    "    if move[0].lower() == \"up\":    \n",
    "        pos[\"y\"] += int(move[1])    \n",
    "    \n",
    "    elif move[0].lower() == \"down\":\n",
    "        pos[\"y\"] -= int(move[1])\n",
    "    \n",
    "    elif move[0].lower() == \"left\":\n",
    "        pos[\"x\"] -= int(move[1])\n",
    "    \n",
    "    elif move[0].lower() == \"right\":\n",
    "        pos[\"x\"] += int(move[1])\n",
    "\n",
    "#  printing the result\n",
    "\n",
    "print(int(round((pos[\"x\"]**2 + pos[\"y\"]**2)**0.5)))   # DISTANCE FROM ORIGIN"
   ]
  },
  {
   "cell_type": "code",
   "execution_count": null,
   "metadata": {},
   "outputs": [],
   "source": []
  }
 ],
 "metadata": {
  "kernelspec": {
   "display_name": "Python 3",
   "language": "python",
   "name": "python3"
  }
 },
 "nbformat": 4,
 "nbformat_minor": 4
}
