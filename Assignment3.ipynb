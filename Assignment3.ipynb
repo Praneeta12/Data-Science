{
 "cells": [
  {
   "cell_type": "code",
   "execution_count": 8,
   "metadata": {},
   "outputs": [
    {
     "name": "stdout",
     "output_type": "stream",
     "text": [
      "[ 2  5  8 11 14 17 20 23 26 29 32 35 38 41 44 47 50]\n"
     ]
    }
   ],
   "source": [
    "#Question 1\n",
    "\n",
    "import numpy as np\n",
    "arr=np.arange(2,51,3)\n",
    "print(arr)"
   ]
  },
  {
   "cell_type": "code",
   "execution_count": 55,
   "metadata": {},
   "outputs": [
    {
     "name": "stdout",
     "output_type": "stream",
     "text": [
      "1\n",
      "2\n",
      "3\n",
      "4\n",
      "5\n",
      "[1, 2, 3, 4, 5]\n",
      "0\n",
      "9\n",
      "6\n",
      "8\n",
      "7\n",
      "[0, 9, 6, 8, 7]\n",
      "\n",
      "Concatenation of two arrays:\n",
      "[1 2 3 4 5 0 9 6 8 7]\n",
      "\n",
      "Sorting of two arrays:\n",
      "[0 1 2 3 4 5 6 7 8 9]\n"
     ]
    }
   ],
   "source": [
    "#Question 2\n",
    "\n",
    "l1=list()\n",
    "l2=list()\n",
    "\n",
    "#accepting two list of 5 elements from the user\n",
    "for i in range(5):   \n",
    "    n1=int(input())\n",
    "    l1.append(n1)\n",
    "print(l1)\n",
    "\n",
    "for j in range(5):\n",
    "    n2=int(input())\n",
    "    l2.append(n2)\n",
    "print(l2)\n",
    "\n",
    "#Converting list to numpy arrays\n",
    "arr1=np.array(l1)\n",
    "arr2=np.array(l2)\n",
    "\n",
    "#Concatenating arrays\n",
    "print(\"\\nConcatenation of two arrays:\")\n",
    "arr3=np.concatenate([arr1,arr2])\n",
    "print(arr3)\n",
    "\n",
    "#Sorting arrays\n",
    "print(\"\\nSorting of two arrays:\")\n",
    "arr4=np.sort(arr3)\n",
    "print(arr4)"
   ]
  },
  {
   "cell_type": "code",
   "execution_count": 56,
   "metadata": {},
   "outputs": [
    {
     "name": "stdout",
     "output_type": "stream",
     "text": [
      "[[1 2 3]\n",
      " [4 5 6]\n",
      " [7 8 9]]\n",
      "No. of dimensions:  2\n",
      "Size of array:  9\n"
     ]
    }
   ],
   "source": [
    "#Question 3\n",
    "\n",
    "arr=np.array([ [1,2,3], [4,5,6], [7,8,9] ])\n",
    "print(arr)\n",
    "\n",
    "print(\"No. of dimensions: \",arr.ndim)\n",
    "print(\"Size of array: \",arr.size)"
   ]
  },
  {
   "cell_type": "code",
   "execution_count": 45,
   "metadata": {},
   "outputs": [
    {
     "name": "stdout",
     "output_type": "stream",
     "text": [
      "[1 2 3 4 5]\n",
      "No of dimensions  1\n",
      "\n",
      "Using newaxis\n",
      "[[1 2 3 4 5]]\n",
      "No of dimensions  2\n",
      "\n",
      "Using expand_dims\n",
      "[[1 2 3 4 5]]\n",
      "No of dimensions  2\n"
     ]
    }
   ],
   "source": [
    "#Question 4\n",
    "\n",
    "arr1=np.array([1,2,3,4,5])\n",
    "print(arr1)\n",
    "print(\"No of dimensions \",arr1.ndim)\n",
    "\n",
    "#Converting 1D array to 2D array using newaxis\n",
    "print(\"\\nUsing newaxis\")\n",
    "arr2=np.array(arr1)[np.newaxis]\n",
    "print(arr2)\n",
    "print(\"No of dimensions \",arr2.ndim)\n",
    "\n",
    "#Converting 1D array to 2D array using expand_dims\n",
    "print(\"\\nUsing expand_dims\")\n",
    "arr3 = np.expand_dims(arr1, axis=0)\n",
    "print(arr3)\n",
    "print(\"No of dimensions \",arr3.ndim)\n"
   ]
  },
  {
   "cell_type": "code",
   "execution_count": 40,
   "metadata": {},
   "outputs": [
    {
     "name": "stdout",
     "output_type": "stream",
     "text": [
      "\n",
      "First square array\n",
      "[[11 22 33]\n",
      " [44 55 66]\n",
      " [77 88 99]]\n",
      "\n",
      "Second square array\n",
      "[[10 20 30]\n",
      " [40 50 60]\n",
      " [70 80 90]]\n",
      "\n",
      "Using hstack()\n",
      "[[11 22 33 10 20 30]\n",
      " [44 55 66 40 50 60]\n",
      " [77 88 99 70 80 90]]\n",
      "\n",
      "Using vstack()\n",
      "[[11 22 33]\n",
      " [44 55 66]\n",
      " [77 88 99]\n",
      " [10 20 30]\n",
      " [40 50 60]\n",
      " [70 80 90]]\n"
     ]
    }
   ],
   "source": [
    "#Question 5\n",
    "\n",
    "arr1=np.array([ [11,22,33], [44,55,66], [77,88,99] ])\n",
    "arr2=np.array([ [10,20,30], [40,50,60], [70,80,90] ])\n",
    "print(\"\\nFirst square array\")\n",
    "print(arr1)\n",
    "print(\"\\nSecond square array\")\n",
    "print(arr2)\n",
    "\n",
    "print(\"\\nUsing hstack()\")\n",
    "print(np.hstack((arr1,arr2)))\n",
    "\n",
    "print(\"\\nUsing vstack()\")\n",
    "print(np.vstack((arr1,arr2)))"
   ]
  },
  {
   "cell_type": "code",
   "execution_count": 54,
   "metadata": {},
   "outputs": [
    {
     "name": "stdout",
     "output_type": "stream",
     "text": [
      "Original Array:  [1 2 3 4 5 1 9 7 8 2 5 4 1 6 9 9 9]\n",
      "Unique Values :  [1 2 3 4 5 6 7 8 9]\n",
      "Occurrence Count: [3 2 1 2 2 1 1 1 4]\n"
     ]
    }
   ],
   "source": [
    "#Question 6\n",
    "\n",
    "arr=np.array([1,2,3,4,5,1,9,7,8,2,5,4,1,6,9,9,9])\n",
    "print(\"Original Array: \",arr)\n",
    "\n",
    "uniqueValues, occurCount = np.unique(arr, return_counts=True)\n",
    "print(\"Unique Values : \" , uniqueValues)\n",
    "print(\"Occurrence Count:\", occurCount)"
   ]
  },
  {
   "cell_type": "code",
   "execution_count": null,
   "metadata": {},
   "outputs": [],
   "source": []
  }
 ],
 "metadata": {
  "kernelspec": {
   "display_name": "Python 3",
   "language": "python",
   "name": "python3"
  },
  "language_info": {
   "codemirror_mode": {
    "name": "ipython",
    "version": 3
   },
   "file_extension": ".py",
   "mimetype": "text/x-python",
   "name": "python",
   "nbconvert_exporter": "python",
   "pygments_lexer": "ipython3",
   "version": "3.8.3"
  }
 },
 "nbformat": 4,
 "nbformat_minor": 4
}
